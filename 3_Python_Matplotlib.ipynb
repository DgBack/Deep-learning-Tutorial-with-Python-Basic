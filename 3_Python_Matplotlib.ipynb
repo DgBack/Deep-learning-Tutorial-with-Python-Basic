{
  "nbformat": 4,
  "nbformat_minor": 0,
  "metadata": {
    "colab": {
      "name": "3_Python_Matplotlib.ipynb",
      "provenance": [],
      "authorship_tag": "ABX9TyP1uxfnQQhyl9jcXX2d1InB",
      "include_colab_link": true
    },
    "kernelspec": {
      "name": "python3",
      "display_name": "Python 3"
    },
    "language_info": {
      "name": "python"
    }
  },
  "cells": [
    {
      "cell_type": "markdown",
      "metadata": {
        "id": "view-in-github",
        "colab_type": "text"
      },
      "source": [
        "<a href=\"https://colab.research.google.com/github/DgBack/Deep-learning-Tutorial-with-Python-Basic/blob/main/3_Python_Matplotlib.ipynb\" target=\"_parent\"><img src=\"https://colab.research.google.com/assets/colab-badge.svg\" alt=\"Open In Colab\"/></a>"
      ]
    },
    {
      "cell_type": "markdown",
      "source": [
        "Bây giờ chungs ta sẽ tìm hiểu về matplotlib là một thư viện hỗ trợ cho việc trực quan hóa dữu liệu \n",
        "\n",
        "\n"
      ],
      "metadata": {
        "id": "Wg7Mkt1cWf9m"
      }
    },
    {
      "cell_type": "code",
      "execution_count": null,
      "metadata": {
        "id": "555EfddzMEkP"
      },
      "outputs": [],
      "source": [
        "import numpy as np \n",
        "import matplotlib.pyplot as plt "
      ]
    },
    {
      "cell_type": "code",
      "source": [
        "x = np.arange(1, 11)\n",
        "print(x)"
      ],
      "metadata": {
        "colab": {
          "base_uri": "https://localhost:8080/"
        },
        "id": "vHqmQH7srFIs",
        "outputId": "3def344b-4cd3-4f59-c324-218887718cb6"
      },
      "execution_count": null,
      "outputs": [
        {
          "output_type": "stream",
          "name": "stdout",
          "text": [
            "[ 1  2  3  4  5  6  7  8  9 10]\n"
          ]
        }
      ]
    },
    {
      "cell_type": "code",
      "source": [
        "y = x* 2"
      ],
      "metadata": {
        "id": "g4j1DxN6rQ77"
      },
      "execution_count": null,
      "outputs": []
    },
    {
      "cell_type": "code",
      "source": [
        "plt.plot(x, y)\n",
        "plt.show()"
      ],
      "metadata": {
        "colab": {
          "base_uri": "https://localhost:8080/",
          "height": 265
        },
        "id": "Yro4M6rGrTU7",
        "outputId": "aad9ffa1-edfc-45de-deef-ca95b42e331f"
      },
      "execution_count": null,
      "outputs": [
        {
          "output_type": "display_data",
          "data": {
            "text/plain": [
              "<Figure size 432x288 with 1 Axes>"
            ],
            "image/png": "[encoded data removed]"
          },
          "metadata": {
            "needs_background": "light"
          }
        }
      ]
    },
    {
      "cell_type": "markdown",
      "source": [
        "Không có gì đáng nói nếu chỉ có thế, thực chất ta phải chỉnh rất nhiều chi tiết ở đưuòng thẳng \n",
        "\n"
      ],
      "metadata": {
        "id": "tKM39kwFto5w"
      }
    },
    {
      "cell_type": "code",
      "source": [
        "plt.plot(x, y, color= 'g', linestyle = ':', linewidth = 2)\n",
        "plt.show()"
      ],
      "metadata": {
        "colab": {
          "base_uri": "https://localhost:8080/",
          "height": 265
        },
        "id": "MZCe_7qrwU8X",
        "outputId": "1b6d1664-d94f-4aff-ce70-e573e9664224"
      },
      "execution_count": null,
      "outputs": [
        {
          "output_type": "display_data",
          "data": {
            "text/plain": [
              "<Figure size 432x288 with 1 Axes>"
            ],
            "image/png": "[encoded data removed]"
          },
          "metadata": {
            "needs_background": "light"
          }
        }
      ]
    },
    {
      "cell_type": "markdown",
      "source": [
        "Ta đến với dạng biểu thị tiếp theo, đó là dạng bar chart\n"
      ],
      "metadata": {
        "id": "HhPIWTcbzkO9"
      }
    },
    {
      "cell_type": "code",
      "source": [
        "students = {'Bob' : 87, \"Matt\" : 56, \"Sam\" : 27}\n"
      ],
      "metadata": {
        "id": "ucLwzuOEzwhF"
      },
      "execution_count": null,
      "outputs": []
    },
    {
      "cell_type": "code",
      "source": [
        "print(students.keys())\n",
        "print(students.values())"
      ],
      "metadata": {
        "colab": {
          "base_uri": "https://localhost:8080/"
        },
        "id": "yObsKd7S31Mj",
        "outputId": "3f251c77-bb35-474e-8352-8fa6a224d9a6"
      },
      "execution_count": null,
      "outputs": [
        {
          "output_type": "stream",
          "name": "stdout",
          "text": [
            "dict_keys(['Bob', 'Matt', 'Sam'])\n",
            "dict_values([87, 56, 27])\n"
          ]
        }
      ]
    },
    {
      "cell_type": "code",
      "source": [
        "plt.bar(students.keys(), students.values())\n",
        "plt.show()"
      ],
      "metadata": {
        "colab": {
          "base_uri": "https://localhost:8080/",
          "height": 265
        },
        "id": "orVg6zbF4Ai0",
        "outputId": "a86fd8e0-f93c-4de7-9118-1a694c6b4236"
      },
      "execution_count": null,
      "outputs": [
        {
          "output_type": "display_data",
          "data": {
            "text/plain": [
              "<Figure size 432x288 with 1 Axes>"
            ],
            "image/png": "[encoded data removed]"
          },
          "metadata": {
            "needs_background": "light"
          }
        }
      ]
    },
    {
      "cell_type": "markdown",
      "source": [
        "Tiếp đó chúng ta sẽ tiếp cận tới biểu đồ phân tán(scatter plot) "
      ],
      "metadata": {
        "id": "rL4NuHid42Tj"
      }
    },
    {
      "cell_type": "code",
      "source": [
        "x = [10, 20, 30, 40, 50, 60, 70 , 80, 90]\n",
        "y = [9, 7,8,1,3,2,5,4,6]\n",
        "plt.scatter(x, y)\n",
        "plt.show()"
      ],
      "metadata": {
        "colab": {
          "base_uri": "https://localhost:8080/",
          "height": 265
        },
        "id": "DQZmPF8Z5Wuz",
        "outputId": "856561b6-f391-4027-fbea-c499b690bd5e"
      },
      "execution_count": null,
      "outputs": [
        {
          "output_type": "display_data",
          "data": {
            "text/plain": [
              "<Figure size 432x288 with 1 Axes>"
            ],
            "image/png": "[encoded data removed]"
          },
          "metadata": {
            "needs_background": "light"
          }
        }
      ]
    },
    {
      "cell_type": "code",
      "source": [
        "x = [10, 20, 30, 40, 50, 60, 70 , 80, 90]\n",
        "y = [9,7,8,1,3,2,5,4,6]\n",
        "a = [3,7,9,2,1,5,8,6,4]\n",
        "plt.scatter(x, y, marker = '.', c= 'g', s= 100)\n",
        "plt.scatter(x, a, marker = '*', c= 'r', s= 200)\n",
        "plt.show()"
      ],
      "metadata": {
        "colab": {
          "base_uri": "https://localhost:8080/",
          "height": 265
        },
        "id": "f-GDc2pU62QW",
        "outputId": "b2919123-62ab-4756-fddc-d7cc3d0306d1"
      },
      "execution_count": null,
      "outputs": [
        {
          "output_type": "display_data",
          "data": {
            "text/plain": [
              "<Figure size 432x288 with 1 Axes>"
            ],
            "image/png": "[encoded data removed]"
          },
          "metadata": {
            "needs_background": "light"
          }
        }
      ]
    },
    {
      "cell_type": "markdown",
      "source": [
        "Tiếp đó là biểu đò săc xuất hay còn gọi là biểu đồ phân phối tầng sắc xuất "
      ],
      "metadata": {
        "id": "oFPM45ZE8sGk"
      }
    },
    {
      "cell_type": "code",
      "source": [
        "data = [1,3,4,5,6,3,5,6,6,7,5,34,6,24,5,3,4,5,6,7,2]"
      ],
      "metadata": {
        "id": "L2uP1vH585I7"
      },
      "execution_count": null,
      "outputs": []
    },
    {
      "cell_type": "code",
      "source": [
        "plt.hist(data)\n",
        "plt.show()"
      ],
      "metadata": {
        "colab": {
          "base_uri": "https://localhost:8080/",
          "height": 265
        },
        "id": "yVHD81Dn9BVc",
        "outputId": "bf7e627d-f44b-47b3-b009-3fbf45cffda2"
      },
      "execution_count": null,
      "outputs": [
        {
          "output_type": "display_data",
          "data": {
            "text/plain": [
              "<Figure size 432x288 with 1 Axes>"
            ],
            "image/png": "[encoded data removed]"
          },
          "metadata": {
            "needs_background": "light"
          }
        }
      ]
    },
    {
      "cell_type": "markdown",
      "source": [
        "Đô thị Box-plot"
      ],
      "metadata": {
        "id": "Lu3kDHtO9ovr"
      }
    },
    {
      "cell_type": "code",
      "source": [
        "one = [1,2,3,4,5,6,7,8,9]\n",
        "two = [1,2,3,4,5,4,3,2,1]\n",
        "three = [6,7,8,9,8,7,6,5,4]\n",
        "\n",
        "data = list([one, two, three])"
      ],
      "metadata": {
        "id": "OmiRmSa59s3z"
      },
      "execution_count": null,
      "outputs": []
    },
    {
      "cell_type": "code",
      "source": [
        "plt.boxplot(data)\n",
        "plt.show()"
      ],
      "metadata": {
        "colab": {
          "base_uri": "https://localhost:8080/",
          "height": 265
        },
        "id": "Qbs0zWpI_Qbb",
        "outputId": "e2bee3e8-4a22-4c00-9fa9-df3e4d66d596"
      },
      "execution_count": null,
      "outputs": [
        {
          "output_type": "display_data",
          "data": {
            "text/plain": [
              "<Figure size 432x288 with 1 Axes>"
            ],
            "image/png": "[encoded data removed]"
          },
          "metadata": {
            "needs_background": "light"
          }
        }
      ]
    },
    {
      "cell_type": "code",
      "source": [
        ""
      ],
      "metadata": {
        "id": "WN490qhb_bPD"
      },
      "execution_count": null,
      "outputs": []
    }
  ]
}