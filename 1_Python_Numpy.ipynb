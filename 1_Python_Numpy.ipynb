{
  "nbformat": 4,
  "nbformat_minor": 0,
  "metadata": {
    "colab": {
      "name": "1_Python_Numpy.ipynb",
      "provenance": [],
      "authorship_tag": "ABX9TyNUu8UVidxg/x2ZZfBTOug2",
      "include_colab_link": true
    },
    "kernelspec": {
      "name": "python3",
      "display_name": "Python 3"
    },
    "language_info": {
      "name": "python"
    }
  },
  "cells": [
    {
      "cell_type": "markdown",
      "metadata": {
        "id": "view-in-github",
        "colab_type": "text"
      },
      "source": [
        "<a href=\"https://colab.research.google.com/github/DgBack/Deep-learning-Tutorial-with-Python-Basic/blob/main/1_Python_Numpy.ipynb\" target=\"_parent\"><img src=\"https://colab.research.google.com/assets/colab-badge.svg\" alt=\"Open In Colab\"/></a>"
      ]
    },
    {
      "cell_type": "markdown",
      "source": [
        "Gọi thư viện Numpy "
      ],
      "metadata": {
        "id": "8tggJJiOVPvH"
      }
    },
    {
      "cell_type": "code",
      "execution_count": 1,
      "metadata": {
        "id": "5FActHDsoGPz"
      },
      "outputs": [],
      "source": [
        "import numpy as np "
      ]
    },
    {
      "cell_type": "markdown",
      "source": [
        "Gọi mảng hai chiều và mảng một chiều "
      ],
      "metadata": {
        "id": "JWA7a3YsV39N"
      }
    },
    {
      "cell_type": "code",
      "source": [
        "# Mảng một chiều \n",
        "one_np = np.array([10, 20, 30, 40])\n",
        "print(one_np)"
      ],
      "metadata": {
        "colab": {
          "base_uri": "https://localhost:8080/"
        },
        "id": "Qdx-JowcWd9N",
        "outputId": "bf87a1aa-98d6-47c6-b2bf-755e423ccb50"
      },
      "execution_count": 2,
      "outputs": [
        {
          "output_type": "stream",
          "name": "stdout",
          "text": [
            "[10 20 30 40]\n"
          ]
        }
      ]
    },
    {
      "cell_type": "code",
      "source": [
        "# Mảng hai chiều \n",
        "two_np = np.array([[10, 20 , 30],\n",
        "                  [40, 50, 60]])\n",
        "print(two_np)"
      ],
      "metadata": {
        "colab": {
          "base_uri": "https://localhost:8080/"
        },
        "id": "FeiJS_qbYRXL",
        "outputId": "d0fc4823-8697-4de3-e046-3cb809e50470"
      },
      "execution_count": 4,
      "outputs": [
        {
          "output_type": "stream",
          "name": "stdout",
          "text": [
            "[[10 20 30]\n",
            " [40 50 60]]\n"
          ]
        }
      ]
    },
    {
      "cell_type": "code",
      "source": [
        "# In ra type của hai ma trận \n",
        "print(type(one_np))\n",
        "\n",
        "print(type(two_np))"
      ],
      "metadata": {
        "colab": {
          "base_uri": "https://localhost:8080/"
        },
        "id": "AVX2BPzyYz9E",
        "outputId": "76c16cd9-5147-46aa-cc3a-f7d0818416dd"
      },
      "execution_count": 5,
      "outputs": [
        {
          "output_type": "stream",
          "name": "stdout",
          "text": [
            "<class 'numpy.ndarray'>\n",
            "<class 'numpy.ndarray'>\n"
          ]
        }
      ]
    },
    {
      "cell_type": "markdown",
      "source": [
        "Khởi tạo các ma trận với các cú pháp đặc biệt \n"
      ],
      "metadata": {
        "id": "IFTafgv4Zeoj"
      }
    },
    {
      "cell_type": "code",
      "source": [
        "# Trước hết chúng ta tạo mảng với khai báo điểm đầu và điểm kết thúc \n",
        "\n",
        "arr_np = np.arange(10, 20 )\n",
        "print(arr_np)"
      ],
      "metadata": {
        "colab": {
          "base_uri": "https://localhost:8080/"
        },
        "id": "4iOa1Ug2Zmcq",
        "outputId": "f50d4d7c-e580-4f1b-a3d6-f11976a86fc4"
      },
      "execution_count": 6,
      "outputs": [
        {
          "output_type": "stream",
          "name": "stdout",
          "text": [
            "[10 11 12 13 14 15 16 17 18 19]\n"
          ]
        }
      ]
    },
    {
      "cell_type": "code",
      "source": [
        "# Ngoài ra ta cũng có thể tạo mảng kiểu trên kết hợp với bước nhảy\n",
        "\n",
        "arr_step_np = np.arange(10, 30, 5)\n",
        "print(arr_step_np)"
      ],
      "metadata": {
        "colab": {
          "base_uri": "https://localhost:8080/"
        },
        "id": "AZM9x3xXZ9Rr",
        "outputId": "efe5ae90-e446-4a92-9635-3902cafd779a"
      },
      "execution_count": 7,
      "outputs": [
        {
          "output_type": "stream",
          "name": "stdout",
          "text": [
            "[10 15 20 25]\n"
          ]
        }
      ]
    },
    {
      "cell_type": "code",
      "source": [
        "# Xây dựng mảng với các số ngẫu nhiên \n",
        "random_arr = np.random.randint(1, 200, 5)\n",
        "print(random_arr)"
      ],
      "metadata": {
        "colab": {
          "base_uri": "https://localhost:8080/"
        },
        "id": "UKkDgIyYlEV7",
        "outputId": "7597402e-86bf-4a1e-eb2b-4c2fffd2461f"
      },
      "execution_count": 8,
      "outputs": [
        {
          "output_type": "stream",
          "name": "stdout",
          "text": [
            "[ 38  99  70  19 166]\n"
          ]
        }
      ]
    },
    {
      "cell_type": "code",
      "source": [
        "# Xây dựng mảng với hàm np.full((chiều dọc, chiều ngang), giá trị một đơn vị)\n",
        "full_np = np.full((4, 8), 5)\n",
        "print(full_np)"
      ],
      "metadata": {
        "colab": {
          "base_uri": "https://localhost:8080/"
        },
        "id": "WHKzLslDl6oL",
        "outputId": "9e00a9a2-2761-4b24-c6aa-14b6c7285368"
      },
      "execution_count": 9,
      "outputs": [
        {
          "output_type": "stream",
          "name": "stdout",
          "text": [
            "[[5 5 5 5 5 5 5 5]\n",
            " [5 5 5 5 5 5 5 5]\n",
            " [5 5 5 5 5 5 5 5]\n",
            " [5 5 5 5 5 5 5 5]]\n"
          ]
        }
      ]
    },
    {
      "cell_type": "markdown",
      "source": [
        "Kiểm gia số lượng dạng của ma trận \n"
      ],
      "metadata": {
        "id": "N4a5yr7BnQTp"
      }
    },
    {
      "cell_type": "code",
      "source": [
        "# Để kiểm tra dạng của ma trận ta có thể sử dụng hàm shape để hiện lên số hàng và số cột \n",
        "# Ta thử nghiệm với các ma trận mà ta đã gọi ở bên trên \n",
        "\n",
        "two_np.shape"
      ],
      "metadata": {
        "colab": {
          "base_uri": "https://localhost:8080/"
        },
        "id": "OW-rx568mM9S",
        "outputId": "34c0a423-c34f-4018-cb51-df58f718f8e8"
      },
      "execution_count": 10,
      "outputs": [
        {
          "output_type": "execute_result",
          "data": {
            "text/plain": [
              "(2, 3)"
            ]
          },
          "metadata": {},
          "execution_count": 10
        }
      ]
    },
    {
      "cell_type": "markdown",
      "source": [
        "Ngoài ra thì ta có một số hàm đặc biệt khá nữa đó là vstack(), hstack() và column_stack() \n",
        "\n"
      ],
      "metadata": {
        "id": "jQoanG0xpQWq"
      }
    },
    {
      "cell_type": "code",
      "source": [
        "# Trước hết là với hàm vstack(), nó sẽ nối hai hàm lại với nhau nhưng kiểu chập lịa thành mảng nhiều hai chiều á\n",
        "n1 = np.array([10, 20, 30])\n",
        "n2 = np.array([40, 50, 60])\n",
        "\n",
        "np.vstack((n1, n2))"
      ],
      "metadata": {
        "colab": {
          "base_uri": "https://localhost:8080/"
        },
        "id": "EeVvikJoqC5C",
        "outputId": "ade54f9e-2f2b-46eb-df67-4416999f1528"
      },
      "execution_count": 11,
      "outputs": [
        {
          "output_type": "execute_result",
          "data": {
            "text/plain": [
              "array([[10, 20, 30],\n",
              "       [40, 50, 60]])"
            ]
          },
          "metadata": {},
          "execution_count": 11
        }
      ]
    },
    {
      "cell_type": "code",
      "source": [
        "# Đến với hstack(), đây sẽ kiểu là nối các ma trận lại với nhau ngược lại so với vstack()\n",
        "np.hstack((n1, n2))"
      ],
      "metadata": {
        "colab": {
          "base_uri": "https://localhost:8080/"
        },
        "id": "rkfWNyuqq-j6",
        "outputId": "a03df340-24de-42ff-ece0-3bbc48c20374"
      },
      "execution_count": 12,
      "outputs": [
        {
          "output_type": "execute_result",
          "data": {
            "text/plain": [
              "array([10, 20, 30, 40, 50, 60])"
            ]
          },
          "metadata": {},
          "execution_count": 12
        }
      ]
    },
    {
      "cell_type": "code",
      "source": [
        "# Đến với hàm column_stack(), đi ngược lại hướng của vstack()\n",
        "np.column_stack((n1, n2))"
      ],
      "metadata": {
        "colab": {
          "base_uri": "https://localhost:8080/"
        },
        "id": "iRlttEoCuBmH",
        "outputId": "6b61b437-86a7-41ff-cd9e-faa9d936c6b5"
      },
      "execution_count": 13,
      "outputs": [
        {
          "output_type": "execute_result",
          "data": {
            "text/plain": [
              "array([[10, 40],\n",
              "       [20, 50],\n",
              "       [30, 60]])"
            ]
          },
          "metadata": {},
          "execution_count": 13
        }
      ]
    },
    {
      "cell_type": "code",
      "source": [
        "# Ta xét đến hàm intersectid, hàm này lấy những phần tử chung của hai ma trận \n",
        "n1 = np.array([1, 2, 3, 4, 5, 6, 7, 8, 9])\n",
        "n2 = np.array([7, 8, 9, 10, 11, 12])\n",
        "\n",
        "np.intersect1d(n1, n2)"
      ],
      "metadata": {
        "colab": {
          "base_uri": "https://localhost:8080/"
        },
        "id": "oiHxr30W1ZcN",
        "outputId": "83237963-7cd9-4837-e45f-75297ad4f9e7"
      },
      "execution_count": 14,
      "outputs": [
        {
          "output_type": "execute_result",
          "data": {
            "text/plain": [
              "array([7, 8, 9])"
            ]
          },
          "metadata": {},
          "execution_count": 14
        }
      ]
    },
    {
      "cell_type": "code",
      "source": [
        "# Tính tổng \n",
        "n1 = np.array([10, 20])\n",
        "n2 = np.array([30, 40])\n",
        "\n",
        "np.sum([n1, n2])\n",
        "\n",
        "np.sum([n1, n2], axis = 0)\n",
        "np.sum([n1, n2], axis = 1)"
      ],
      "metadata": {
        "colab": {
          "base_uri": "https://localhost:8080/"
        },
        "id": "zOPCQbLi2hs3",
        "outputId": "bde83237-21a0-42fb-8c4b-246e419770d6"
      },
      "execution_count": 15,
      "outputs": [
        {
          "output_type": "execute_result",
          "data": {
            "text/plain": [
              "array([30, 70])"
            ]
          },
          "metadata": {},
          "execution_count": 15
        }
      ]
    }
  ]
}